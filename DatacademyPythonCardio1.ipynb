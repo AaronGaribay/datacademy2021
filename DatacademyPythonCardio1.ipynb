{
  "nbformat": 4,
  "nbformat_minor": 0,
  "metadata": {
    "colab": {
      "name": "DatacademyPythonCardio1.ipynb",
      "provenance": [],
      "collapsed_sections": [],
      "authorship_tag": "ABX9TyPlRMoqAV3d8FjgtF6H9Q2q",
      "include_colab_link": true
    },
    "kernelspec": {
      "name": "python3",
      "display_name": "Python 3"
    },
    "language_info": {
      "name": "python"
    }
  },
  "cells": [
    {
      "cell_type": "markdown",
      "metadata": {
        "id": "view-in-github",
        "colab_type": "text"
      },
      "source": [
        "<a href=\"https://colab.research.google.com/github/AaronGaribay/datacademy2021/blob/main/DatacademyPythonCardio1.ipynb\" target=\"_parent\"><img src=\"https://colab.research.google.com/assets/colab-badge.svg\" alt=\"Open In Colab\"/></a>"
      ]
    },
    {
      "cell_type": "markdown",
      "metadata": {
        "id": "gsiSCoZh6rEM"
      },
      "source": [
        "### RETO 1 - Area de un triangulo\n",
        "\n",
        "Es momento de poner ese conocimiento a la práctica. El área de un triángulo se describe de la siguiente manera: A = (b * h) / 2 .\n",
        "\n",
        "Escribe un programa que tome la base y la altura como parámetros y calcule el área del triángulo.\n",
        "\n",
        "Bonus: el programa debe determinar si el triángulo es isósceles, equilátero o escaleno."
      ]
    },
    {
      "cell_type": "code",
      "metadata": {
        "id": "VvLb73hujvrU"
      },
      "source": [
        "from typing import List\n",
        "from math import sqrt"
      ],
      "execution_count": null,
      "outputs": []
    },
    {
      "cell_type": "code",
      "metadata": {
        "id": "KmCZdwSd6jKh"
      },
      "source": [
        "def triangle_info(sizes: List[float]):\n",
        "    assert len(sizes) == 3, 'sizes must have 3 elements'\n",
        "    information = {}\n",
        "    sizes.sort()\n",
        "    for i, size in enumerate(sizes):\n",
        "        assert size < (sizes[i-1] + sizes[i-2]), 'no valid triangle sizes' \n",
        "\n",
        "    semi_perimeter = sum(sizes) / 2\n",
        "    \n",
        "    information['area'] = sqrt(semi_perimeter * (semi_perimeter - sizes[0]) * (semi_perimeter - sizes[1]) * (semi_perimeter - sizes[2]))\n",
        "    \n",
        "    if sizes[0] == sizes[1] == sizes[2]:\n",
        "        information['triangle_kind'] = 'equilateral'\n",
        "    elif sizes[0] == sizes[1] or sizes[1] == sizes[2]:\n",
        "        information['triangle_kind'] = 'isosceles'\n",
        "    else:\n",
        "        information['triangle_kind'] = 'scalene'\n",
        "\n",
        "    return information"
      ],
      "execution_count": null,
      "outputs": []
    },
    {
      "cell_type": "code",
      "metadata": {
        "colab": {
          "base_uri": "https://localhost:8080/"
        },
        "id": "r0PT-hJi6678",
        "outputId": "7934f4ce-cea3-40af-898b-b770c19b02c1"
      },
      "source": [
        "triangle_info([3,4,5])"
      ],
      "execution_count": null,
      "outputs": [
        {
          "output_type": "execute_result",
          "data": {
            "text/plain": [
              "{'area': 6.0, 'triangle_kind': 'scalene'}"
            ]
          },
          "metadata": {
            "tags": []
          },
          "execution_count": 25
        }
      ]
    },
    {
      "cell_type": "markdown",
      "metadata": {
        "id": "Tt_HuxQm3qXZ"
      },
      "source": [
        "### Reto 2 - Piedra, papel o tijera\n",
        "\n",
        "Este es un juego en el que nunca fui bueno, pero eso no significa que hacer un programa sea difícil. Escribe un programa que reciba como parámetro “piedra”, “papel”, o “tijera” y determine si ganó el jugador 1 o el jugador 2.\n",
        "\n",
        "Bonus: determina que el ganador sea el jugador que gane 2 de 3 encuentros."
      ]
    },
    {
      "cell_type": "code",
      "metadata": {
        "id": "ZkXvmi5Y5eO1"
      },
      "source": [
        "CHOISES = ['rock', 'paper', 'scissors']\n",
        "K_O_ = {\n",
        "    CHOISES[0]: CHOISES[-1],\n",
        "    CHOISES[1]: CHOISES[0],\n",
        "    CHOISES[2]: CHOISES[1] \n",
        "}\n",
        "def is_valid_choise(choise: str):\n",
        "    assert choise in CHOISES, f'Not a valid option. Options are {CHOISES}'\n",
        "    return True\n",
        "\n",
        "def rock_paper_scissors(p1_attempt: str, p2_attempt: str):\n",
        "    p1_attempt = p1_attempt.lower()\n",
        "    p2_attempt = p2_attempt.lower()\n",
        "    is_valid_choise(p1_attempt)\n",
        "    is_valid_choise(p2_attempt)\n",
        "\n",
        "    if p1_attempt == p2_attempt:\n",
        "        return 0, 0\n",
        "    if K_O_[p1_attempt] == p2_attempt:\n",
        "        return 1,0\n",
        "    else:\n",
        "        return 0,1\n",
        "\n",
        "def rps_rounds(player1_tries: list, player2_tries: list):\n",
        "    assert len(player1_tries) == len(player2_tries), 'tries for both players must be the same'\n",
        "    assert len(player1_tries) > 0, 'empty tries not allowed'\n",
        "    rounds = 0\n",
        "    p1_score = 0\n",
        "    p2_score = 0\n",
        "    while player1_tries:\n",
        "        p1_attempt = player1_tries.pop(0)\n",
        "        p2_attempt = player2_tries.pop(0)\n",
        "        p1_delta, p2_delta = rock_paper_scissors(p1_attempt, p2_attempt)\n",
        "        if p1_delta + p2_delta == 1:\n",
        "            rounds += 1\n",
        "        p1_score += p1_delta\n",
        "        p2_score += p2_delta\n",
        "    if p1_score == p2_score:\n",
        "        return \"it's a draw\"\n",
        "    winner = 1 if p1_score > p2_score else 2\n",
        "    return f\"after {rounds} {'round' if rounds == 1 else 'rounds'}, the winner is the player {winner}\"\n",
        "        "
      ],
      "execution_count": null,
      "outputs": []
    },
    {
      "cell_type": "code",
      "metadata": {
        "colab": {
          "base_uri": "https://localhost:8080/",
          "height": 35
        },
        "id": "ahObGUe4AnWI",
        "outputId": "e0d2d9c0-aa5d-4f83-c14d-41bec7e421f4"
      },
      "source": [
        "rps_rounds(['rock', 'paper', 'scissors'], ['rock', 'paper', 'paper'])"
      ],
      "execution_count": null,
      "outputs": [
        {
          "output_type": "execute_result",
          "data": {
            "application/vnd.google.colaboratory.intrinsic+json": {
              "type": "string"
            },
            "text/plain": [
              "'after 1 round, the winner is the player 1'"
            ]
          },
          "metadata": {
            "tags": []
          },
          "execution_count": 73
        }
      ]
    },
    {
      "cell_type": "markdown",
      "metadata": {
        "id": "exaztdA5D5HB"
      },
      "source": [
        "### Reto 3 - Conversor de millas a kilómetros\n",
        "Imagina que quieres calcular los kilómetros que son cierta cantidad de millas. Para no estar repitiendo este cálculo escribe un programa en que el usuario indique una cantidad de millas y en pantalla se muestre el resultado convertido a kilómetros.\n",
        "\n",
        "Toma en cuenta que en cada milla hay 1.609344 Km\n",
        "\n",
        "Bonus: haz que el usuario pueda escoger entre convertir millas a kilómetros o kilómetros a millas."
      ]
    },
    {
      "cell_type": "code",
      "metadata": {
        "id": "7IgwQY2bGYgV"
      },
      "source": [
        "import time"
      ],
      "execution_count": 4,
      "outputs": []
    },
    {
      "cell_type": "code",
      "metadata": {
        "id": "MW97OvnfD9O5"
      },
      "source": [
        "sleep = 2\n",
        "is_premium = False\n",
        "def miles_to_kilometres(miles: float):\n",
        "    return miles * 1.609344\n",
        "\n",
        "def kilometres_to_miles(kilometers: float):\n",
        "    return kilometers * (1/1.609344)\n",
        "\n",
        "def joke():\n",
        "    # Actually very close to reality\n",
        "    print(\"     Please wait, processing entry...\")\n",
        "    time.sleep(sleep)\n",
        "    print(\"     Waking up servers\")\n",
        "    time.sleep(sleep)\n",
        "    print(\"     Setting up load balancers\")\n",
        "    time.sleep(sleep)\n",
        "    print(\"     This is getting some time... Do yo have tried premium? it could be a great idea\")\n",
        "    time.sleep(sleep)\n",
        "    print(\"     Almost done\")\n",
        "    time.sleep(sleep)\n",
        "\n",
        "def convertion_ui():\n",
        "    print(\"\"\"\n",
        "    Welcome to the simple converter 2000!\n",
        "    If you want to convert miles to kilometers please type 1 followed by enter\n",
        "    If you want to convert kilometers to miles please type 2 followed by enter\n",
        "    If you want more convertions please upgrade to premium, only 5.99 USD / month!\n",
        "    Or pay as you go with 0.5 usd by usage.\n",
        "    \"\"\"\n",
        "    )\n",
        "    choise = int(input())\n",
        "    if choise < 1 or choise > 2:\n",
        "        raise ValueError(\"Not a valid choise. Please run again and read carefully\")\n",
        "    print(\"\"\"\n",
        "        Okay, please enter the amount to be converted\n",
        "    \"\"\")\n",
        "    amount = abs(float(input(\"\")))\n",
        "    \n",
        "    result = miles_to_kilometres(amount) if choise == 1 else kilometres_to_miles(amount)\n",
        "    if not is_premium: joke()\n",
        "    print(f\"\"\"\n",
        "        Result:\n",
        "{amount} {'miles' if choise == 1 else 'kilometers'} is equal to: {result} {'miles' if choise == 2 else 'kilometers'}\n",
        "    \"\"\")\n"
      ],
      "execution_count": 5,
      "outputs": []
    },
    {
      "cell_type": "code",
      "metadata": {
        "colab": {
          "base_uri": "https://localhost:8080/"
        },
        "id": "IGyT6Nh2E-kH",
        "outputId": "d044c710-a73f-499a-f7b0-584a430a013e"
      },
      "source": [
        "convertion_ui()"
      ],
      "execution_count": 6,
      "outputs": [
        {
          "output_type": "stream",
          "text": [
            "\n",
            "    Welcome to the simple converter 2000!\n",
            "    If you want to convert miles to kilometers please type 1 followed by enter\n",
            "    If you want to convert kilometers to miles please type 2 followed by enter\n",
            "    If you want more convertions please upgrade to premium, only 5.99 USD / month!\n",
            "    Or pay as you go with 0.5 usd by usage.\n",
            "    \n",
            "1\n",
            "\n",
            "        Okay, please enter the amount to be converted\n",
            "    \n",
            "2\n",
            "     Please wait, processing entry...\n",
            "     Waking up servers\n",
            "     Setting up load balancers\n",
            "     This is getting some time... Do yo have tried premium? it could be a great idea\n",
            "     Almost done\n",
            "\n",
            "        Result:\n",
            "2.0 miles is equal to: 3.218688 kilometers\n",
            "    \n"
          ],
          "name": "stdout"
        }
      ]
    },
    {
      "cell_type": "markdown",
      "metadata": {
        "id": "bkLW8et0MbTI"
      },
      "source": [
        "### Reto 4 - Calculadora de volúmenes\n",
        "\n",
        "Sigamos con matemáticas elementales para no perder la costumbre y retar nuestras habilidades. Escribe un programa donde apliques las diferentes fórmulas matemáticas para calcular el volumen de un cilindro.\n",
        "\n",
        "Recuerda que la base del cilindro es un círculo y necesitarás calcular su área. Aplica las fórmulas en tu programa recibiendo datos como altura y radio.\n",
        "\n",
        "Bonus: agrega otras figuras geométricas a tu programa y que el usuario pueda escoger cuál calcular."
      ]
    },
    {
      "cell_type": "code",
      "metadata": {
        "id": "3MHX1J8hMsG2"
      },
      "source": [
        "from math import pi, pow"
      ],
      "execution_count": 1,
      "outputs": []
    },
    {
      "cell_type": "code",
      "metadata": {
        "id": "29OoZjJSFGnK"
      },
      "source": [
        "def cilinder_volumen(r: float, h: float):\n",
        "    area = pi * pow(r, 2)\n",
        "    return h * area\n",
        "\n",
        "def cube_volumen(s: int):\n",
        "    return pow(s, 3)\n",
        "\n",
        "def cone_volumen(r: float, h: float):\n",
        "    return cilinder_volumen(r, h) / 3.0\n",
        "\n",
        "def sphere_volumen(r: int):\n",
        "    return 4 * pi * pow(r, 3)  / 3\n",
        "\n",
        "def volumen_ui():\n",
        "    print(\"\"\"\n",
        "    Welcome to the simple volume calculator 3000!\n",
        "    Choose your figure!\n",
        "\n",
        "        -Cilinder-  please type 1 followed by enter\n",
        "        -Cube-      please type 2 followed by enter\n",
        "        -Cone-      please type 3 followed by enter\n",
        "        -Sphere-    please type 4 followed by enter\n",
        "    \"\"\"\n",
        "    )\n",
        "    choise = int(input())\n",
        "    if choise < 1 or choise > 4:\n",
        "        raise ValueError(\"Not a valid choise. Please run again and read carefully\")\n",
        "    \n",
        "    print(\n",
        "        f\"\"\"\n",
        "        Please enter the {'side' if choise == 2 else 'radio'} length of your figure\n",
        "        \"\"\"\n",
        "    )\n",
        "    r_or_l = float(input())\n",
        "    if choise in [1,3]:\n",
        "        print(\n",
        "        f\"\"\"\n",
        "        Please enter the height of your figure\n",
        "        \"\"\"\n",
        "        )\n",
        "        h = float(input())\n",
        "        print(f\"The volume of your figure is {cilinder_volumen(r_or_l, h) if choise == 1 else cone_volumen(r_or_l, h)}\")\n",
        "    else:\n",
        "        print(f\"The volume of your figure is {cube_volumen(r_or_l) if choise == 2 else sphere_volumen(r_or_l)}\")"
      ],
      "execution_count": 12,
      "outputs": []
    },
    {
      "cell_type": "code",
      "metadata": {
        "colab": {
          "base_uri": "https://localhost:8080/"
        },
        "id": "PtQEXtK8QNtQ",
        "outputId": "c494ad7d-5d58-445e-f638-50f36146efce"
      },
      "source": [
        "volumen_ui()"
      ],
      "execution_count": 13,
      "outputs": [
        {
          "output_type": "stream",
          "text": [
            "\n",
            "    Welcome to the simple volume calculator 3000!\n",
            "    Choose your figure!\n",
            "\n",
            "        -Cilinder-  please type 1 followed by enter\n",
            "        -Cube-      please type 2 followed by enter\n",
            "        -Cone-      please type 3 followed by enter\n",
            "        -Sphere-    please type 4 followed by enter\n",
            "    \n",
            "1\n",
            "\n",
            "        Please enter the radio length of your figure\n",
            "        \n",
            "3\n",
            "\n",
            "        Please enter the height of your figure\n",
            "        \n",
            "5\n",
            "The volume of your figure is 141.3716694115407\n"
          ],
          "name": "stdout"
        }
      ]
    },
    {
      "cell_type": "markdown",
      "metadata": {
        "id": "JqIEjoPpUM3r"
      },
      "source": [
        "### Reto 5 - Rangos cambiantes\n",
        "\n",
        "Para este reto final juguemos con números. En tu programa pide al usuario ingresar 3 números: un límite inferior, un límite superior y uno de comparación.\n",
        "\n",
        "Si tu número de comparación se encuentra en el rango de los dos límites, imprímelo en pantalla.\n",
        "\n",
        "En caso de estar por debajo del inferior o arriba del superior, también muéstralo en pantalla y pide ingresar otro número para repetir el proceso.\n",
        "\n"
      ]
    },
    {
      "cell_type": "code",
      "metadata": {
        "id": "rrfj0ngKUEOT"
      },
      "source": [
        "def in_range(l_i: float, l_s: float, c: float):\n",
        "    if c > l_i and c < l_s:\n",
        "        return True\n",
        "    return False\n",
        "def range_ui():\n",
        "    print(\"\"\"\n",
        "        Welcome to the range game:\n",
        "        Please enter a number\n",
        "    \"\"\")\n",
        "    l_i = float(input())\n",
        "    print(\"\"\"\n",
        "        Now enter another number but this must be bigger that the firsts.\n",
        "    \"\"\")\n",
        "\n",
        "    while True:\n",
        "        l_s = float(input())\n",
        "        if l_i < l_s:\n",
        "            break\n",
        "        print(\"Must be bigger than the very first number, try again \\n\")\n",
        "    \n",
        "    print(f\"\"\"\n",
        "        Your numbers are: {l_i} and {l_s}\n",
        "        Now enter another number, but this must be beetween your numbers.\n",
        "    \"\"\")\n",
        "    while True:\n",
        "        c = float(input())\n",
        "        if in_range(l_i, l_s, c):\n",
        "            print(\"\"\"\n",
        "        Number beetween the numbers!\n",
        "            \"\"\")\n",
        "            break\n",
        "        print(\"\"\"\n",
        "        Your number is not beetwen the numbers, enter another please.\n",
        "        \"\"\")\n",
        "    print(\"Goodbye\")"
      ],
      "execution_count": 17,
      "outputs": []
    },
    {
      "cell_type": "code",
      "metadata": {
        "colab": {
          "base_uri": "https://localhost:8080/"
        },
        "id": "TZsLPzHFad8z",
        "outputId": "e7e1d7f3-5833-4785-d552-7a0e9fe193f5"
      },
      "source": [
        "range_ui()"
      ],
      "execution_count": 18,
      "outputs": [
        {
          "output_type": "stream",
          "text": [
            "\n",
            "        Welcome to the range game:\n",
            "        Please enter a number\n",
            "    \n",
            "-5.3\n",
            "\n",
            "        Now enter another number but this must be bigger that the firsts.\n",
            "    \n",
            "9.0\n",
            "\n",
            "        Your numbers are: -5.3 and 9.0\n",
            "        Now enter another number, but this must be beetween your numbers.\n",
            "    \n",
            "10\n",
            "\n",
            "        Your number is not beetwen the numbers, enter another please.\n",
            "        \n",
            "11.5\n",
            "\n",
            "        Your number is not beetwen the numbers, enter another please.\n",
            "        \n",
            "0\n",
            "\n",
            "        Number beetween the numbers!\n",
            "            \n",
            "Goodbye\n"
          ],
          "name": "stdout"
        }
      ]
    }
  ]
}