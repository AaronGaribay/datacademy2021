{
  "nbformat": 4,
  "nbformat_minor": 0,
  "metadata": {
    "colab": {
      "name": "1-1 Escalares, vectores, matrices, tensores.ipynb",
      "provenance": [],
      "authorship_tag": "ABX9TyNF0AUY0YqceXYYyeM8s0hm",
      "include_colab_link": true
    },
    "kernelspec": {
      "name": "python3",
      "display_name": "Python 3"
    },
    "language_info": {
      "name": "python"
    }
  },
  "cells": [
    {
      "cell_type": "markdown",
      "metadata": {
        "id": "view-in-github",
        "colab_type": "text"
      },
      "source": [
        "<a href=\"https://colab.research.google.com/github/AaronGaribay/datacademy2021/blob/main/algebra%20lineal/1_1_Escalares%2C_vectores%2C_matrices%2C_tensores.ipynb\" target=\"_parent\"><img src=\"https://colab.research.google.com/assets/colab-badge.svg\" alt=\"Open In Colab\"/></a>"
      ]
    },
    {
      "cell_type": "code",
      "metadata": {
        "id": "_T5CQqS0x5kW"
      },
      "source": [
        "import numpy as np\n",
        "import matplotlib.pyplot as plt"
      ],
      "execution_count": 10,
      "outputs": []
    },
    {
      "cell_type": "code",
      "metadata": {
        "colab": {
          "base_uri": "https://localhost:8080/"
        },
        "id": "9Nti0hsA22lx",
        "outputId": "1336ffd5-e422-400b-e0ab-0e1eadec2bc4"
      },
      "source": [
        "escalar = 5.41\n",
        "print(escalar)"
      ],
      "execution_count": 8,
      "outputs": [
        {
          "output_type": "stream",
          "text": [
            "5.41\n"
          ],
          "name": "stdout"
        }
      ]
    },
    {
      "cell_type": "code",
      "metadata": {
        "colab": {
          "base_uri": "https://localhost:8080/"
        },
        "id": "mxZpvXy01ivL",
        "outputId": "a070f206-1590-4ec6-e88f-67b24a0d1497"
      },
      "source": [
        "vector = np.array([1,2,4.5])\n",
        "print(vector)"
      ],
      "execution_count": 9,
      "outputs": [
        {
          "output_type": "stream",
          "text": [
            "[1.  2.  4.5]\n"
          ],
          "name": "stdout"
        }
      ]
    },
    {
      "cell_type": "code",
      "metadata": {
        "colab": {
          "base_uri": "https://localhost:8080/"
        },
        "id": "HCxohS9v1ySW",
        "outputId": "590c1b60-1413-4f25-d089-0dff33ad93a5"
      },
      "source": [
        "matriz = ([\n",
        "           [1,100,200],\n",
        "           [10,150,255],\n",
        "           [20,125,1]\n",
        "          ])\n",
        "print(matriz)"
      ],
      "execution_count": 19,
      "outputs": [
        {
          "output_type": "stream",
          "text": [
            "[[1, 100, 200], [10, 150, 255], [20, 125, 1]]\n"
          ],
          "name": "stdout"
        }
      ]
    },
    {
      "cell_type": "code",
      "metadata": {
        "colab": {
          "base_uri": "https://localhost:8080/"
        },
        "id": "h4a6ohhn2dQ8",
        "outputId": "da9c0ccb-ae42-4b28-e242-2883b169443c"
      },
      "source": [
        "tensor = ([\n",
        "           matriz,\n",
        "           matriz,\n",
        "           matriz\n",
        "])\n",
        "print(tensor)"
      ],
      "execution_count": 20,
      "outputs": [
        {
          "output_type": "stream",
          "text": [
            "[[[1, 100, 200], [10, 150, 255], [20, 125, 1]], [[1, 100, 200], [10, 150, 255], [20, 125, 1]], [[1, 100, 200], [10, 150, 255], [20, 125, 1]]]\n"
          ],
          "name": "stdout"
        }
      ]
    },
    {
      "cell_type": "code",
      "metadata": {
        "colab": {
          "base_uri": "https://localhost:8080/",
          "height": 269
        },
        "id": "pqQ4xOyV29L2",
        "outputId": "1c98ec14-e8c2-434a-b9a0-ad447e7c56bb"
      },
      "source": [
        "plt.imshow(tensor, interpolation='nearest')\n",
        "plt.show()"
      ],
      "execution_count": 21,
      "outputs": [
        {
          "output_type": "display_data",
          "data": {
            "image/png": "[encoded data removed]",
            "text/plain": [
              "<Figure size 432x288 with 1 Axes>"
            ]
          },
          "metadata": {
            "tags": [],
            "needs_background": "light"
          }
        }
      ]
    }
  ]
}