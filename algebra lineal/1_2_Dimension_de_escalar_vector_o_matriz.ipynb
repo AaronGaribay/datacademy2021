{
  "nbformat": 4,
  "nbformat_minor": 0,
  "metadata": {
    "colab": {
      "name": "1-2 Dimension de escalar vector o matriz.ipynb",
      "provenance": [],
      "authorship_tag": "ABX9TyN4P1HK3OQWA4CmMOuImG8g",
      "include_colab_link": true
    },
    "kernelspec": {
      "name": "python3",
      "display_name": "Python 3"
    },
    "language_info": {
      "name": "python"
    }
  },
  "cells": [
    {
      "cell_type": "markdown",
      "metadata": {
        "id": "view-in-github",
        "colab_type": "text"
      },
      "source": [
        "<a href=\"https://colab.research.google.com/github/AaronGaribay/datacademy2021/blob/main/algebra%20lineal/1_2_Dimension_de_escalar_vector_o_matriz.ipynb\" target=\"_parent\"><img src=\"https://colab.research.google.com/assets/colab-badge.svg\" alt=\"Open In Colab\"/></a>"
      ]
    },
    {
      "cell_type": "code",
      "metadata": {
        "id": "HHlX5DYt8MXF"
      },
      "source": [
        "import numpy as np"
      ],
      "execution_count": 1,
      "outputs": []
    },
    {
      "cell_type": "code",
      "metadata": {
        "id": "YI7wRMxE8XgD"
      },
      "source": [
        "escalar = 5.679\n",
        "vector = np.array([1,2,3])\n",
        "matriz = np.array([[1,2],[3,4]])\n",
        "tensor = np.array([\n",
        "    [[1,2,3],[4,5,6],[6,7,8]],\n",
        "    [[11,12,13],[14,15,16],[17,18,19]],\n",
        "    [[21,22,23],[24,25,26],[27,28,29]],\n",
        "])"
      ],
      "execution_count": 2,
      "outputs": []
    },
    {
      "cell_type": "code",
      "metadata": {
        "colab": {
          "base_uri": "https://localhost:8080/"
        },
        "id": "p1SsiqmM-Rzc",
        "outputId": "0600297d-f527-4abe-99d3-3b027357076f"
      },
      "source": [
        "escalar"
      ],
      "execution_count": 3,
      "outputs": [
        {
          "output_type": "execute_result",
          "data": {
            "text/plain": [
              "5.679"
            ]
          },
          "metadata": {
            "tags": []
          },
          "execution_count": 3
        }
      ]
    },
    {
      "cell_type": "code",
      "metadata": {
        "colab": {
          "base_uri": "https://localhost:8080/"
        },
        "id": "EqjX8qwX-Tf_",
        "outputId": "ce433548-4210-446a-80d9-fc934d1ed3ce"
      },
      "source": [
        "print(vector, vector.shape)"
      ],
      "execution_count": 5,
      "outputs": [
        {
          "output_type": "stream",
          "text": [
            "[1 2 3] (3,)\n"
          ],
          "name": "stdout"
        }
      ]
    },
    {
      "cell_type": "code",
      "metadata": {
        "colab": {
          "base_uri": "https://localhost:8080/"
        },
        "id": "WM3_Z_mv-ZzE",
        "outputId": "4d1d8c37-9cf4-4517-b21d-e58fdd0b2b6b"
      },
      "source": [
        "print(matriz, matriz.shape)"
      ],
      "execution_count": 6,
      "outputs": [
        {
          "output_type": "stream",
          "text": [
            "[[1 2]\n",
            " [3 4]] (2, 2)\n"
          ],
          "name": "stdout"
        }
      ]
    },
    {
      "cell_type": "code",
      "metadata": {
        "colab": {
          "base_uri": "https://localhost:8080/"
        },
        "id": "9aHYJggA-dAn",
        "outputId": "9444d43c-f8b2-4426-925f-c8a7a964b5eb"
      },
      "source": [
        "matriz.size"
      ],
      "execution_count": 7,
      "outputs": [
        {
          "output_type": "execute_result",
          "data": {
            "text/plain": [
              "4"
            ]
          },
          "metadata": {
            "tags": []
          },
          "execution_count": 7
        }
      ]
    },
    {
      "cell_type": "code",
      "metadata": {
        "colab": {
          "base_uri": "https://localhost:8080/"
        },
        "id": "k4ISmnke-hOM",
        "outputId": "236a2bda-42be-4dd8-e033-65f29d1944af"
      },
      "source": [
        "print(tensor, tensor.shape)"
      ],
      "execution_count": 8,
      "outputs": [
        {
          "output_type": "stream",
          "text": [
            "[[[ 1  2  3]\n",
            "  [ 4  5  6]\n",
            "  [ 6  7  8]]\n",
            "\n",
            " [[11 12 13]\n",
            "  [14 15 16]\n",
            "  [17 18 19]]\n",
            "\n",
            " [[21 22 23]\n",
            "  [24 25 26]\n",
            "  [27 28 29]]] (3, 3, 3)\n"
          ],
          "name": "stdout"
        }
      ]
    },
    {
      "cell_type": "code",
      "metadata": {
        "colab": {
          "base_uri": "https://localhost:8080/"
        },
        "id": "BKpyPINl-mjE",
        "outputId": "f9bfd4a2-eb5e-45b8-fbfe-d5818348165b"
      },
      "source": [
        "tensor.size"
      ],
      "execution_count": 9,
      "outputs": [
        {
          "output_type": "execute_result",
          "data": {
            "text/plain": [
              "27"
            ]
          },
          "metadata": {
            "tags": []
          },
          "execution_count": 9
        }
      ]
    }
  ]
}