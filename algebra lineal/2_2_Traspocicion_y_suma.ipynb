{
  "nbformat": 4,
  "nbformat_minor": 0,
  "metadata": {
    "colab": {
      "name": "2-2 Traspocicion y suma.ipynb",
      "provenance": [],
      "authorship_tag": "ABX9TyO+ZargUqVYRpn58fgYyqH1",
      "include_colab_link": true
    },
    "kernelspec": {
      "name": "python3",
      "display_name": "Python 3"
    },
    "language_info": {
      "name": "python"
    }
  },
  "cells": [
    {
      "cell_type": "markdown",
      "metadata": {
        "id": "view-in-github",
        "colab_type": "text"
      },
      "source": [
        "<a href=\"https://colab.research.google.com/github/AaronGaribay/datacademy2021/blob/main/algebra%20lineal/2_2_Traspocicion_y_suma.ipynb\" target=\"_parent\"><img src=\"https://colab.research.google.com/assets/colab-badge.svg\" alt=\"Open In Colab\"/></a>"
      ]
    },
    {
      "cell_type": "code",
      "metadata": {
        "id": "1Mf8MJqr-3Es"
      },
      "source": [
        "import numpy as np"
      ],
      "execution_count": 1,
      "outputs": []
    },
    {
      "cell_type": "code",
      "metadata": {
        "id": "8Q8lUvDZ_HXi"
      },
      "source": [
        "escalar = 5.679\n",
        "vector = np.array([1,2,3])\n",
        "matriz = np.array([[1,2],[3,4]])\n",
        "tensor = np.array([\n",
        "    [[1,2,3],[4,5,6],[7,8,9]],\n",
        "    [[11,12,13],[14,15,16],[17,18,19]],\n",
        "    [[21,22,23],[24,25,26],[27,28,29]],\n",
        "])"
      ],
      "execution_count": 12,
      "outputs": []
    },
    {
      "cell_type": "code",
      "metadata": {
        "colab": {
          "base_uri": "https://localhost:8080/"
        },
        "id": "IhcB4rlv_ToS",
        "outputId": "1546d45b-21ec-41fc-98a2-8ffb1db5c860"
      },
      "source": [
        "print(vector, vector.T)"
      ],
      "execution_count": 5,
      "outputs": [
        {
          "output_type": "stream",
          "text": [
            "[1 2 3] [1 2 3]\n"
          ],
          "name": "stdout"
        }
      ]
    },
    {
      "cell_type": "code",
      "metadata": {
        "colab": {
          "base_uri": "https://localhost:8080/"
        },
        "id": "jHmFS6UQ_gIj",
        "outputId": "db1070a7-469b-4264-ebd8-f96cb0d99bd5"
      },
      "source": [
        "print(matriz, end='\\n\\n')\n",
        "print(matriz.T)"
      ],
      "execution_count": 8,
      "outputs": [
        {
          "output_type": "stream",
          "text": [
            "[[1 2]\n",
            " [3 4]]\n",
            "\n",
            "[[1 3]\n",
            " [2 4]]\n"
          ],
          "name": "stdout"
        }
      ]
    },
    {
      "cell_type": "code",
      "metadata": {
        "colab": {
          "base_uri": "https://localhost:8080/"
        },
        "id": "iQTc_0Qg_jav",
        "outputId": "844ea07a-f0c5-44aa-fc99-c56eb3d17243"
      },
      "source": [
        "print(tensor, end='\\n\\n')\n",
        "print(tensor.T)"
      ],
      "execution_count": 13,
      "outputs": [
        {
          "output_type": "stream",
          "text": [
            "[[[ 1  2  3]\n",
            "  [ 4  5  6]\n",
            "  [ 7  8  9]]\n",
            "\n",
            " [[11 12 13]\n",
            "  [14 15 16]\n",
            "  [17 18 19]]\n",
            "\n",
            " [[21 22 23]\n",
            "  [24 25 26]\n",
            "  [27 28 29]]]\n",
            "\n",
            "[[[ 1 11 21]\n",
            "  [ 4 14 24]\n",
            "  [ 7 17 27]]\n",
            "\n",
            " [[ 2 12 22]\n",
            "  [ 5 15 25]\n",
            "  [ 8 18 28]]\n",
            "\n",
            " [[ 3 13 23]\n",
            "  [ 6 16 26]\n",
            "  [ 9 19 29]]]\n"
          ],
          "name": "stdout"
        }
      ]
    },
    {
      "cell_type": "markdown",
      "metadata": {
        "id": "mDwQC-4fBcJG"
      },
      "source": [
        "Operaciones de matrices"
      ]
    },
    {
      "cell_type": "code",
      "metadata": {
        "colab": {
          "base_uri": "https://localhost:8080/"
        },
        "id": "Tgy00wqZBd9a",
        "outputId": "3475c7a5-5c6e-49ce-e894-c3cf1623f460"
      },
      "source": [
        "A = np.array([[1,2], [3,4], [5,6]])\n",
        "B = np.array([[1,2], [3,4], [5,6]])\n",
        "A + B"
      ],
      "execution_count": 14,
      "outputs": [
        {
          "output_type": "execute_result",
          "data": {
            "text/plain": [
              "array([[ 2,  4],\n",
              "       [ 6,  8],\n",
              "       [10, 12]])"
            ]
          },
          "metadata": {
            "tags": []
          },
          "execution_count": 14
        }
      ]
    },
    {
      "cell_type": "code",
      "metadata": {
        "colab": {
          "base_uri": "https://localhost:8080/"
        },
        "id": "9uXdQ_GFB7yK",
        "outputId": "0cdc8c55-5757-423d-f443-ac63afead483"
      },
      "source": [
        "A + escalar"
      ],
      "execution_count": 15,
      "outputs": [
        {
          "output_type": "execute_result",
          "data": {
            "text/plain": [
              "array([[ 6.679,  7.679],\n",
              "       [ 8.679,  9.679],\n",
              "       [10.679, 11.679]])"
            ]
          },
          "metadata": {
            "tags": []
          },
          "execution_count": 15
        }
      ]
    }
  ]
}