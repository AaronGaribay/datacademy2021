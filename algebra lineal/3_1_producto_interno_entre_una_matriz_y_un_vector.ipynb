{
  "nbformat": 4,
  "nbformat_minor": 0,
  "metadata": {
    "colab": {
      "name": "3-1 producto interno entre una matriz y un vector.ipynb",
      "provenance": [],
      "authorship_tag": "ABX9TyMGIHjszojSkE7Oz0s60r9h",
      "include_colab_link": true
    },
    "kernelspec": {
      "name": "python3",
      "display_name": "Python 3"
    },
    "language_info": {
      "name": "python"
    }
  },
  "cells": [
    {
      "cell_type": "markdown",
      "metadata": {
        "id": "view-in-github",
        "colab_type": "text"
      },
      "source": [
        "<a href=\"https://colab.research.google.com/github/AaronGaribay/datacademy2021/blob/main/algebra%20lineal/3_1_producto_interno_entre_una_matriz_y_un_vector.ipynb\" target=\"_parent\"><img src=\"https://colab.research.google.com/assets/colab-badge.svg\" alt=\"Open In Colab\"/></a>"
      ]
    },
    {
      "cell_type": "code",
      "metadata": {
        "id": "3IjoahDeIz12"
      },
      "source": [
        "import numpy as np\n",
        "\n",
        "escalar = 5.679\n",
        "vector = np.array([2,3])\n",
        "matriz = np.array([[1,2], [3,4], [5,6]])"
      ],
      "execution_count": 4,
      "outputs": []
    },
    {
      "cell_type": "code",
      "metadata": {
        "id": "uixUkgbbI6kp"
      },
      "source": [
        "A = matriz * vector"
      ],
      "execution_count": 5,
      "outputs": []
    },
    {
      "cell_type": "code",
      "metadata": {
        "id": "7F6AaoSuJOYO"
      },
      "source": [
        "# Producto interno \n",
        "B = matriz.dot(vector)"
      ],
      "execution_count": 6,
      "outputs": []
    },
    {
      "cell_type": "code",
      "metadata": {
        "colab": {
          "base_uri": "https://localhost:8080/"
        },
        "id": "IoxmH6YyJT9M",
        "outputId": "2b934d00-c6a9-48f8-830c-a8feda64c4a9"
      },
      "source": [
        "A"
      ],
      "execution_count": 7,
      "outputs": [
        {
          "output_type": "execute_result",
          "data": {
            "text/plain": [
              "array([[ 2,  6],\n",
              "       [ 6, 12],\n",
              "       [10, 18]])"
            ]
          },
          "metadata": {
            "tags": []
          },
          "execution_count": 7
        }
      ]
    },
    {
      "cell_type": "code",
      "metadata": {
        "colab": {
          "base_uri": "https://localhost:8080/"
        },
        "id": "K8-ZUNiOJV01",
        "outputId": "71359583-4d52-490a-d061-134b79b2741c"
      },
      "source": [
        "B"
      ],
      "execution_count": 8,
      "outputs": [
        {
          "output_type": "execute_result",
          "data": {
            "text/plain": [
              "array([ 8, 18, 28])"
            ]
          },
          "metadata": {
            "tags": []
          },
          "execution_count": 8
        }
      ]
    },
    {
      "cell_type": "code",
      "metadata": {
        "colab": {
          "base_uri": "https://localhost:8080/"
        },
        "id": "Y5qyp1aiKZUP",
        "outputId": "fe8b48ff-23bf-4f0b-cbab-c2147e54a5c9"
      },
      "source": [
        "vector * matriz"
      ],
      "execution_count": 9,
      "outputs": [
        {
          "output_type": "execute_result",
          "data": {
            "text/plain": [
              "array([[ 2,  6],\n",
              "       [ 6, 12],\n",
              "       [10, 18]])"
            ]
          },
          "metadata": {
            "tags": []
          },
          "execution_count": 9
        }
      ]
    }
  ]
}