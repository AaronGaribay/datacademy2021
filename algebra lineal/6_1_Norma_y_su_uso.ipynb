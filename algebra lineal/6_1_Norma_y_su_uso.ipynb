{
  "nbformat": 4,
  "nbformat_minor": 0,
  "metadata": {
    "colab": {
      "name": "6-1 Norma y su uso.ipynb",
      "provenance": [],
      "authorship_tag": "ABX9TyN/Pl0ogNSoPA7n2GBpayqc",
      "include_colab_link": true
    },
    "kernelspec": {
      "name": "python3",
      "display_name": "Python 3"
    },
    "language_info": {
      "name": "python"
    }
  },
  "cells": [
    {
      "cell_type": "markdown",
      "metadata": {
        "id": "view-in-github",
        "colab_type": "text"
      },
      "source": [
        "<a href=\"https://colab.research.google.com/github/AaronGaribay/datacademy2021/blob/main/algebra%20lineal/6_1_Norma_y_su_uso.ipynb\" target=\"_parent\"><img src=\"https://colab.research.google.com/assets/colab-badge.svg\" alt=\"Open In Colab\"/></a>"
      ]
    },
    {
      "cell_type": "code",
      "metadata": {
        "id": "55eoul1s2v-Q"
      },
      "source": [
        "import numpy as np\n",
        "import matplotlib.pyplot as plt\n",
        "import seaborn as sns"
      ],
      "execution_count": 1,
      "outputs": []
    },
    {
      "cell_type": "code",
      "metadata": {
        "colab": {
          "base_uri": "https://localhost:8080/"
        },
        "id": "kRg-uaMF3gWI",
        "outputId": "e052d9c9-2a3d-4d3f-e7e9-3561eb9afed0"
      },
      "source": [
        "v1 = np.array([2, 7])\n",
        "v2 = np.array([3, 5])\n",
        "\n",
        "print(v1, v2)"
      ],
      "execution_count": 2,
      "outputs": [
        {
          "output_type": "stream",
          "text": [
            "[2 7] [3 5]\n"
          ],
          "name": "stdout"
        }
      ]
    },
    {
      "cell_type": "code",
      "metadata": {
        "colab": {
          "base_uri": "https://localhost:8080/"
        },
        "id": "GgZwbSg13_fa",
        "outputId": "3a9b462f-3d1e-41f9-b1c7-cbca277f04bd"
      },
      "source": [
        "v1v2 = v1+v2\n",
        "v1v2"
      ],
      "execution_count": 4,
      "outputs": [
        {
          "output_type": "execute_result",
          "data": {
            "text/plain": [
              "array([ 5, 12])"
            ]
          },
          "metadata": {
            "tags": []
          },
          "execution_count": 4
        }
      ]
    },
    {
      "cell_type": "code",
      "metadata": {
        "colab": {
          "base_uri": "https://localhost:8080/"
        },
        "id": "7HdubS0m4JTF",
        "outputId": "6355002b-4c26-468a-ded3-041887b72602"
      },
      "source": [
        "np.linalg.norm(v1v2)"
      ],
      "execution_count": 5,
      "outputs": [
        {
          "output_type": "execute_result",
          "data": {
            "text/plain": [
              "13.0"
            ]
          },
          "metadata": {
            "tags": []
          },
          "execution_count": 5
        }
      ]
    },
    {
      "cell_type": "code",
      "metadata": {
        "colab": {
          "base_uri": "https://localhost:8080/"
        },
        "id": "VLHdEC0j4d50",
        "outputId": "7b6551c5-e52d-45bc-a385-113413e71727"
      },
      "source": [
        "norma_v1 = np.linalg.norm(v1)\n",
        "norma_v2 = np.linalg.norm(v2)\n",
        "norma_v1_v2 = np.linalg.norm(v1v2)\n",
        "\n",
        "print(norma_v1_v2 <= (norma_v1 + norma_v2))"
      ],
      "execution_count": 7,
      "outputs": [
        {
          "output_type": "stream",
          "text": [
            "True\n"
          ],
          "name": "stdout"
        }
      ]
    }
  ]
}