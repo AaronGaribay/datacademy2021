{
  "nbformat": 4,
  "nbformat_minor": 0,
  "metadata": {
    "colab": {
      "name": "examen.ipynb",
      "provenance": [],
      "authorship_tag": "ABX9TyMaF92PQCsQL1seZ4hSge/k",
      "include_colab_link": true
    },
    "kernelspec": {
      "name": "python3",
      "display_name": "Python 3"
    },
    "language_info": {
      "name": "python"
    }
  },
  "cells": [
    {
      "cell_type": "markdown",
      "metadata": {
        "id": "view-in-github",
        "colab_type": "text"
      },
      "source": [
        "<a href=\"https://colab.research.google.com/github/AaronGaribay/datacademy2021/blob/main/algebra%20lineal/examen.ipynb\" target=\"_parent\"><img src=\"https://colab.research.google.com/assets/colab-badge.svg\" alt=\"Open In Colab\"/></a>"
      ]
    },
    {
      "cell_type": "code",
      "metadata": {
        "id": "KhZvbZPqIHat"
      },
      "source": [
        "import numpy as np\n"
      ],
      "execution_count": null,
      "outputs": []
    },
    {
      "cell_type": "code",
      "metadata": {
        "colab": {
          "base_uri": "https://localhost:8080/"
        },
        "id": "wC2zsSUlIKbY",
        "outputId": "7e429aa3-797e-4fc6-fee8-a0f56a2da046"
      },
      "source": [
        "vector = [1/2, 1/2, 1/2, 1/2]\n",
        "vector = np.array(vector)\n",
        "vector"
      ],
      "execution_count": null,
      "outputs": [
        {
          "output_type": "execute_result",
          "data": {
            "text/plain": [
              "array([0.5, 0.5, 0.5, 0.5])"
            ]
          },
          "metadata": {
            "tags": []
          },
          "execution_count": 2
        }
      ]
    },
    {
      "cell_type": "code",
      "metadata": {
        "colab": {
          "base_uri": "https://localhost:8080/"
        },
        "id": "jyqf8aLMIX_k",
        "outputId": "e7277fdb-b4c3-4dc1-cf73-cf018abb1366"
      },
      "source": [
        "np.linalg.norm(vector, ord=2)"
      ],
      "execution_count": null,
      "outputs": [
        {
          "output_type": "execute_result",
          "data": {
            "text/plain": [
              "1.0"
            ]
          },
          "metadata": {
            "tags": []
          },
          "execution_count": 3
        }
      ]
    },
    {
      "cell_type": "markdown",
      "metadata": {
        "id": "UsQS-T6MIt3q"
      },
      "source": [
        ""
      ]
    },
    {
      "cell_type": "code",
      "metadata": {
        "id": "-D6nfrRaIuSU"
      },
      "source": [
        "M1 = [\n",
        "      [1,2],\n",
        "      [3,4],\n",
        "      [5,6]\n",
        "      ]\n",
        "M1 = np.array(M1)\n",
        "M2 = [\n",
        "      [34, 42, 123],\n",
        "      [123, 981, 32]\n",
        "      ]\n",
        "M2 = np.array(M2)"
      ],
      "execution_count": null,
      "outputs": []
    },
    {
      "cell_type": "code",
      "metadata": {
        "colab": {
          "base_uri": "https://localhost:8080/"
        },
        "id": "o8RNFFzBJGGN",
        "outputId": "98576666-cc88-4d4f-a541-64ac2a5615fe"
      },
      "source": [
        "print(np.dot(M1, M2))\n",
        "print(np.dot(M2,M1))"
      ],
      "execution_count": null,
      "outputs": [
        {
          "output_type": "stream",
          "text": [
            "[[ 280 2004  187]\n",
            " [ 594 4050  497]\n",
            " [ 908 6096  807]]\n",
            "[[ 775  974]\n",
            " [3226 4362]]\n"
          ],
          "name": "stdout"
        }
      ]
    },
    {
      "cell_type": "markdown",
      "metadata": {
        "id": "h9x4-KNgJke0"
      },
      "source": [
        ""
      ]
    },
    {
      "cell_type": "code",
      "metadata": {
        "id": "AaVQ10nWJkwq"
      },
      "source": [
        "v=[7,-7,3]\n",
        "u=[1,1,0]\n",
        "w=[0,0,1]\n",
        "v = np.array(v)\n",
        "u = np.array(u)\n",
        "w = np.array(w)\n"
      ],
      "execution_count": null,
      "outputs": []
    },
    {
      "cell_type": "code",
      "metadata": {
        "colab": {
          "base_uri": "https://localhost:8080/"
        },
        "id": "AbxIj8BVJyGZ",
        "outputId": "74c495f3-8099-4b41-fea6-dfd58035f926"
      },
      "source": [
        "np.dot(v,u)"
      ],
      "execution_count": null,
      "outputs": [
        {
          "output_type": "execute_result",
          "data": {
            "text/plain": [
              "0"
            ]
          },
          "metadata": {
            "tags": []
          },
          "execution_count": 9
        }
      ]
    },
    {
      "cell_type": "markdown",
      "metadata": {
        "id": "yLneICvYKNuE"
      },
      "source": [
        ""
      ]
    },
    {
      "cell_type": "code",
      "metadata": {
        "id": "OSfjqSLqKN9e"
      },
      "source": [
        "M = [[1, 0, 0, 0, 0],\n",
        "[0, 2, 0, 0, 0],\n",
        "[0, 0, 3, 0, 0],\n",
        "[0, 0, 0, 4, 0],\n",
        "[0, 0, 0, 0, 5]]\n",
        "\n",
        "M = np.array(M)"
      ],
      "execution_count": null,
      "outputs": []
    },
    {
      "cell_type": "code",
      "metadata": {
        "colab": {
          "base_uri": "https://localhost:8080/"
        },
        "id": "0rVdRAoEKb9T",
        "outputId": "ed64d28f-82e1-432b-cc15-371d4f5573fe"
      },
      "source": [
        "np.linalg.det(M)"
      ],
      "execution_count": null,
      "outputs": [
        {
          "output_type": "execute_result",
          "data": {
            "text/plain": [
              "119.99999999999997"
            ]
          },
          "metadata": {
            "tags": []
          },
          "execution_count": 13
        }
      ]
    },
    {
      "cell_type": "markdown",
      "metadata": {
        "id": "NoGyLZzvLFgU"
      },
      "source": [
        ""
      ]
    },
    {
      "cell_type": "code",
      "metadata": {
        "colab": {
          "base_uri": "https://localhost:8080/"
        },
        "id": "npvBG4mQLEsm",
        "outputId": "17fc9d30-48a0-4418-8ea2-7d094649d919"
      },
      "source": [
        "M = [[1, 2, 3, 4], [5, 6, 7, 8], [9,10, 11,12]]\n",
        "M = np.array(M)\n",
        "M.T"
      ],
      "execution_count": null,
      "outputs": [
        {
          "output_type": "execute_result",
          "data": {
            "text/plain": [
              "array([[ 1,  5,  9],\n",
              "       [ 2,  6, 10],\n",
              "       [ 3,  7, 11],\n",
              "       [ 4,  8, 12]])"
            ]
          },
          "metadata": {
            "tags": []
          },
          "execution_count": 14
        }
      ]
    },
    {
      "cell_type": "markdown",
      "metadata": {
        "id": "TkM4Xqo_Lj6T"
      },
      "source": [
        ""
      ]
    },
    {
      "cell_type": "code",
      "metadata": {
        "id": "WhqKelhvLkPX"
      },
      "source": [
        "M = [[1 ,3], [5, 6]]\n",
        "M = np.array(M)"
      ],
      "execution_count": null,
      "outputs": []
    },
    {
      "cell_type": "code",
      "metadata": {
        "colab": {
          "base_uri": "https://localhost:8080/"
        },
        "id": "i7CZaquuL2B0",
        "outputId": "8b4e6e1a-a93d-48a9-d04c-914a98f8188e"
      },
      "source": [
        "M + 3"
      ],
      "execution_count": null,
      "outputs": [
        {
          "output_type": "execute_result",
          "data": {
            "text/plain": [
              "array([[4, 6],\n",
              "       [8, 9]])"
            ]
          },
          "metadata": {
            "tags": []
          },
          "execution_count": 17
        }
      ]
    },
    {
      "cell_type": "code",
      "metadata": {
        "colab": {
          "base_uri": "https://localhost:8080/"
        },
        "id": "AV92nL5sMEm5",
        "outputId": "30cba1e6-5efb-4eef-bf9c-5221fb59df58"
      },
      "source": [
        "M + np.array([[3],[3]])"
      ],
      "execution_count": null,
      "outputs": [
        {
          "output_type": "execute_result",
          "data": {
            "text/plain": [
              "array([[4, 6],\n",
              "       [8, 9]])"
            ]
          },
          "metadata": {
            "tags": []
          },
          "execution_count": 18
        }
      ]
    }
  ]
}