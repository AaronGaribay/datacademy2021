{
  "nbformat": 4,
  "nbformat_minor": 0,
  "metadata": {
    "colab": {
      "name": "8 - Distribución binomial.ipynb",
      "provenance": [],
      "authorship_tag": "ABX9TyOgUvqUIpMp9MAl7rdK0Jzp",
      "include_colab_link": true
    },
    "kernelspec": {
      "name": "python3",
      "display_name": "Python 3"
    },
    "language_info": {
      "name": "python"
    }
  },
  "cells": [
    {
      "cell_type": "markdown",
      "metadata": {
        "id": "view-in-github",
        "colab_type": "text"
      },
      "source": [
        "<a href=\"https://colab.research.google.com/github/AaronGaribay/datacademy2021/blob/main/probabilidad/8_Distribuci%C3%B3n_binomial.ipynb\" target=\"_parent\"><img src=\"https://colab.research.google.com/assets/colab-badge.svg\" alt=\"Open In Colab\"/></a>"
      ]
    },
    {
      "cell_type": "code",
      "metadata": {
        "id": "YAIXpbI1DiZa"
      },
      "source": [
        "import numpy as np\n",
        "from numpy.random import binomial\n",
        "from scipy.stats import binom\n",
        "from math import factorial\n",
        "import matplotlib.pyplot as plt"
      ],
      "execution_count": 1,
      "outputs": []
    },
    {
      "cell_type": "markdown",
      "metadata": {
        "id": "aNihzWcdEbAp"
      },
      "source": [
        "## secuencia de eventos tipo Bernoulli"
      ]
    },
    {
      "cell_type": "code",
      "metadata": {
        "id": "tBNt0i0WEt1d"
      },
      "source": [
        "def my_binomial(k: int, n: int, p :float = 1/2):\n",
        "    return factorial(n) / (factorial(k) * factorial(n-k)) * pow(p, k) * pow(1 - p, n - k)"
      ],
      "execution_count": 3,
      "outputs": []
    },
    {
      "cell_type": "code",
      "metadata": {
        "colab": {
          "base_uri": "https://localhost:8080/"
        },
        "id": "hKt_4UiPHPuV",
        "outputId": "2f8e9b4c-b17e-4449-9b8d-ce799d277217"
      },
      "source": [
        "dist = binom(3, 0.5)\n",
        "dist.pmf(2) # probability mass function"
      ],
      "execution_count": 5,
      "outputs": [
        {
          "output_type": "execute_result",
          "data": {
            "text/plain": [
              "0.375"
            ]
          },
          "metadata": {
            "tags": []
          },
          "execution_count": 5
        }
      ]
    },
    {
      "cell_type": "code",
      "metadata": {
        "colab": {
          "base_uri": "https://localhost:8080/"
        },
        "id": "orC2_sDGHH0a",
        "outputId": "845a36aa-236b-4710-aa0d-07d5a0150a99"
      },
      "source": [
        "my_binomial(2,3)"
      ],
      "execution_count": 4,
      "outputs": [
        {
          "output_type": "execute_result",
          "data": {
            "text/plain": [
              "0.375"
            ]
          },
          "metadata": {
            "tags": []
          },
          "execution_count": 4
        }
      ]
    },
    {
      "cell_type": "markdown",
      "metadata": {
        "id": "4GIN48AZLoDS"
      },
      "source": [
        "## Comprobando el ejercicio a mano"
      ]
    },
    {
      "cell_type": "code",
      "metadata": {
        "colab": {
          "base_uri": "https://localhost:8080/"
        },
        "id": "02p81RiDLnnk",
        "outputId": "5e2cec34-87d5-410b-8d82-02624f4eee66"
      },
      "source": [
        "dist.cdf(2) # cumulative density function"
      ],
      "execution_count": 6,
      "outputs": [
        {
          "output_type": "execute_result",
          "data": {
            "text/plain": [
              "0.875"
            ]
          },
          "metadata": {
            "tags": []
          },
          "execution_count": 6
        }
      ]
    },
    {
      "cell_type": "markdown",
      "metadata": {
        "id": "_46hTkA2MKg4"
      },
      "source": [
        "## Simulaciones de secuancias con generadores aleatorios"
      ]
    },
    {
      "cell_type": "code",
      "metadata": {
        "id": "NWvoF207MOgq"
      },
      "source": [
        "p = 1/2\n",
        "n = 3"
      ],
      "execution_count": 7,
      "outputs": []
    },
    {
      "cell_type": "code",
      "metadata": {
        "id": "yiXI9yF1M6xs"
      },
      "source": [
        ""
      ],
      "execution_count": null,
      "outputs": []
    },
    {
      "cell_type": "code",
      "metadata": {
        "id": "k-LIb6YKNhbX"
      },
      "source": [
        "def plot_hist(num_trials):\n",
        "    values = [0, 1, 2, 3]\n",
        "    # simulacion de 100 lanzamientos de moneda equilibrada\n",
        "    results = [binomial(n, p) for _ in range(num_trials)]\n",
        "    simulation = np.unique(results, return_counts=True)[1] / len(results)\n",
        "    theory = [binom(3, 1/2).pmf(k) for k in values]\n",
        "\n",
        "    plt.bar(values, theory, label = 'teoria', color='blue')\n",
        "    plt.bar(values, simulation, label = 'simulación', alpha = 0.5, color='red')\n",
        "    plt.title(f\"{num_trials} experimentos\")\n",
        "    plt.show()\n"
      ],
      "execution_count": 16,
      "outputs": []
    },
    {
      "cell_type": "code",
      "metadata": {
        "colab": {
          "base_uri": "https://localhost:8080/",
          "height": 1000
        },
        "id": "vnVUbpXvPPp3",
        "outputId": "44074dc7-6a66-40ba-ba05-24a113f15a8c"
      },
      "source": [
        "plot_hist(20)\n",
        "plot_hist(200)\n",
        "plot_hist(2000)\n",
        "plot_hist(20000)"
      ],
      "execution_count": 17,
      "outputs": [
        {
          "output_type": "display_data",
          "data": {
            "image/png": "[encoded data removed]",
            "text/plain": [
              "<Figure size 432x288 with 1 Axes>"
            ]
          },
          "metadata": {
            "tags": [],
            "needs_background": "light"
          }
        },
        {
          "output_type": "display_data",
          "data": {
            "image/png": "[encoded data removed]",
            "text/plain": [
              "<Figure size 432x288 with 1 Axes>"
            ]
          },
          "metadata": {
            "tags": [],
            "needs_background": "light"
          }
        },
        {
          "output_type": "display_data",
          "data": {
            "image/png": "[encoded data removed]",
            "text/plain": [
              "<Figure size 432x288 with 1 Axes>"
            ]
          },
          "metadata": {
            "tags": [],
            "needs_background": "light"
          }
        },
        {
          "output_type": "display_data",
          "data": {
            "image/png": "[encoded data removed]",
            "text/plain": [
              "<Figure size 432x288 with 1 Axes>"
            ]
          },
          "metadata": {
            "tags": [],
            "needs_background": "light"
          }
        }
      ]
    }
  ]
}